{
  "nbformat": 4,
  "nbformat_minor": 0,
  "metadata": {
    "colab": {
      "provenance": [],
      "authorship_tag": "ABX9TyN8GicZhcTcV2jaslBPdLNt",
      "include_colab_link": true
    },
    "kernelspec": {
      "name": "python3",
      "display_name": "Python 3"
    },
    "language_info": {
      "name": "python"
    }
  },
  "cells": [
    {
      "cell_type": "markdown",
      "metadata": {
        "id": "view-in-github",
        "colab_type": "text"
      },
      "source": [
        "<a href=\"https://colab.research.google.com/github/suprit-chafle/BranchRepository/blob/master/eigenValuEandEigenVector.ipynb\" target=\"_parent\"><img src=\"https://colab.research.google.com/assets/colab-badge.svg\" alt=\"Open In Colab\"/></a>"
      ]
    },
    {
      "cell_type": "code",
      "execution_count": 2,
      "metadata": {
        "colab": {
          "base_uri": "https://localhost:8080/"
        },
        "id": "_8eS3ouJLATJ",
        "outputId": "2525f9e1-e962-4eff-fab2-3267a7f7cba5"
      },
      "outputs": [
        {
          "output_type": "stream",
          "name": "stdout",
          "text": [
            "[[ 2 -2  3]\n",
            " [ 1  1  1]\n",
            " [ 1  3 -1]]\n"
          ]
        }
      ],
      "source": [
        "import numpy as np\n",
        "A=np.array([[2,-2,3],[1,1,1],[1,3,-1]])\n",
        "print(A)"
      ]
    },
    {
      "cell_type": "code",
      "source": [
        "B=np.array([[2,0,0],[0,1,0],[0,0,-1]])\n",
        "print(B)\n"
      ],
      "metadata": {
        "colab": {
          "base_uri": "https://localhost:8080/"
        },
        "id": "RdRiIWrMMpnD",
        "outputId": "0de35f10-0c62-43c4-92f4-71c4ecd76c6d"
      },
      "execution_count": 5,
      "outputs": [
        {
          "output_type": "stream",
          "name": "stdout",
          "text": [
            "[[ 2  0  0]\n",
            " [ 0  1  0]\n",
            " [ 0  0 -1]]\n"
          ]
        }
      ]
    },
    {
      "cell_type": "code",
      "source": [
        "val,vect=np.linalg.eig(B)\n",
        "print(val)\n",
        "print(vect)"
      ],
      "metadata": {
        "colab": {
          "base_uri": "https://localhost:8080/"
        },
        "id": "3S4bKJwYM1v_",
        "outputId": "ea6b3cbd-e6e5-4f42-ca60-33a1c5df920a"
      },
      "execution_count": 6,
      "outputs": [
        {
          "output_type": "stream",
          "name": "stdout",
          "text": [
            "[ 2.  1. -1.]\n",
            "[[1. 0. 0.]\n",
            " [0. 1. 0.]\n",
            " [0. 0. 1.]]\n"
          ]
        }
      ]
    },
    {
      "cell_type": "code",
      "source": [
        "values,vector=np.linalg.eig(A)\n",
        "print(values)\n",
        "print(vector)"
      ],
      "metadata": {
        "colab": {
          "base_uri": "https://localhost:8080/"
        },
        "id": "DfUqIPffMTp_",
        "outputId": "ed5be0ad-42f0-431d-fe19-a76fcdb361f0"
      },
      "execution_count": 4,
      "outputs": [
        {
          "output_type": "stream",
          "name": "stdout",
          "text": [
            "[ 3.  1. -2.]\n",
            "[[ 0.57735027  0.57735027 -0.61684937]\n",
            " [ 0.57735027 -0.57735027 -0.05607722]\n",
            " [ 0.57735027 -0.57735027  0.78508102]]\n"
          ]
        }
      ]
    }
  ]
}